{
 "metadata": {
  "language_info": {
   "codemirror_mode": {
    "name": "ipython",
    "version": 3
   },
   "file_extension": ".py",
   "mimetype": "text/x-python",
   "name": "python",
   "nbconvert_exporter": "python",
   "pygments_lexer": "ipython3",
   "version": "3.8.7"
  },
  "orig_nbformat": 4,
  "kernelspec": {
   "name": "python3",
   "display_name": "Python 3.8.7 64-bit ('geospatial': virtualenvwrapper)"
  },
  "interpreter": {
   "hash": "0fa17accbb23c72cf25032a422564cfb8a6a73c486c753ed6aa34f37fac56fb6"
  }
 },
 "nbformat": 4,
 "nbformat_minor": 2,
 "cells": [
  {
   "cell_type": "code",
   "execution_count": 1,
   "metadata": {},
   "outputs": [
    {
     "output_type": "stream",
     "name": "stderr",
     "text": [
      "/Users/btb/.virtualenvs/geospatial/lib/python3.8/site-packages/pandas/compat/__init__.py:97: UserWarning: Could not import the lzma module. Your installed Python is incomplete. Attempting to use lzma compression will result in a RuntimeError.\n  warnings.warn(msg)\n"
     ]
    }
   ],
   "source": [
    "import pandas as pd\n",
    "import numpy as np\n",
    "import folium\n",
    "from folium import plugins"
   ]
  },
  {
   "cell_type": "code",
   "execution_count": 2,
   "metadata": {},
   "outputs": [],
   "source": [
    "f = \"/Users/brettbyrnes/Documents/Garmin fit Files/data/2013-10-03-08-46-52.csv\""
   ]
  },
  {
   "cell_type": "code",
   "execution_count": 3,
   "metadata": {},
   "outputs": [],
   "source": [
    "data = pd.read_csv(\"locations.csv\")\n",
    "path = data[(data[\"latitude\"].notnull() == True)&(data[\"filename\"]==f)][[\"latitude\",\"longitude\"]]"
   ]
  },
  {
   "cell_type": "code",
   "execution_count": 4,
   "metadata": {},
   "outputs": [],
   "source": [
    "m = folium.Map(location=[32.039510,-81.095118],zoom_start=15)\n",
    "folium.PolyLine(path).add_to(m)\n",
    "m.save(\"map.html\")"
   ]
  },
  {
   "cell_type": "code",
   "execution_count": 5,
   "metadata": {},
   "outputs": [
    {
     "output_type": "execute_result",
     "data": {
      "text/plain": [
       "      latitude  longitude\n",
       "412  32.039171 -81.095256\n",
       "413  32.039186 -81.095251\n",
       "414  32.039203 -81.095243\n",
       "415  32.039324 -81.095191\n",
       "416  32.039510 -81.095118\n",
       "..         ...        ...\n",
       "586  32.046435 -81.079367\n",
       "587  32.046450 -81.079475\n",
       "588  32.046477 -81.079564\n",
       "589  32.046481 -81.079575\n",
       "590  32.046484 -81.079587\n",
       "\n",
       "[179 rows x 2 columns]"
      ],
      "text/html": "<div>\n<style scoped>\n    .dataframe tbody tr th:only-of-type {\n        vertical-align: middle;\n    }\n\n    .dataframe tbody tr th {\n        vertical-align: top;\n    }\n\n    .dataframe thead th {\n        text-align: right;\n    }\n</style>\n<table border=\"1\" class=\"dataframe\">\n  <thead>\n    <tr style=\"text-align: right;\">\n      <th></th>\n      <th>latitude</th>\n      <th>longitude</th>\n    </tr>\n  </thead>\n  <tbody>\n    <tr>\n      <th>412</th>\n      <td>32.039171</td>\n      <td>-81.095256</td>\n    </tr>\n    <tr>\n      <th>413</th>\n      <td>32.039186</td>\n      <td>-81.095251</td>\n    </tr>\n    <tr>\n      <th>414</th>\n      <td>32.039203</td>\n      <td>-81.095243</td>\n    </tr>\n    <tr>\n      <th>415</th>\n      <td>32.039324</td>\n      <td>-81.095191</td>\n    </tr>\n    <tr>\n      <th>416</th>\n      <td>32.039510</td>\n      <td>-81.095118</td>\n    </tr>\n    <tr>\n      <th>...</th>\n      <td>...</td>\n      <td>...</td>\n    </tr>\n    <tr>\n      <th>586</th>\n      <td>32.046435</td>\n      <td>-81.079367</td>\n    </tr>\n    <tr>\n      <th>587</th>\n      <td>32.046450</td>\n      <td>-81.079475</td>\n    </tr>\n    <tr>\n      <th>588</th>\n      <td>32.046477</td>\n      <td>-81.079564</td>\n    </tr>\n    <tr>\n      <th>589</th>\n      <td>32.046481</td>\n      <td>-81.079575</td>\n    </tr>\n    <tr>\n      <th>590</th>\n      <td>32.046484</td>\n      <td>-81.079587</td>\n    </tr>\n  </tbody>\n</table>\n<p>179 rows × 2 columns</p>\n</div>"
     },
     "metadata": {},
     "execution_count": 5
    }
   ],
   "source": [
    "path"
   ]
  },
  {
   "cell_type": "code",
   "execution_count": null,
   "metadata": {},
   "outputs": [],
   "source": []
  }
 ]
}