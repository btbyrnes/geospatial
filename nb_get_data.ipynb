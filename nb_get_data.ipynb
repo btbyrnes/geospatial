{
 "metadata": {
  "language_info": {
   "codemirror_mode": {
    "name": "ipython",
    "version": 3
   },
   "file_extension": ".py",
   "mimetype": "text/x-python",
   "name": "python",
   "nbconvert_exporter": "python",
   "pygments_lexer": "ipython3",
   "version": "3.8.7"
  },
  "orig_nbformat": 2,
  "kernelspec": {
   "name": "python3",
   "display_name": "Python 3.8.7 64-bit ('geospatial': virtualenvwrapper)"
  },
  "metadata": {
   "interpreter": {
    "hash": "0fa17accbb23c72cf25032a422564cfb8a6a73c486c753ed6aa34f37fac56fb6"
   }
  },
  "interpreter": {
   "hash": "0fa17accbb23c72cf25032a422564cfb8a6a73c486c753ed6aa34f37fac56fb6"
  }
 },
 "nbformat": 4,
 "nbformat_minor": 2,
 "cells": [
  {
   "source": [
    "## Get all the data"
   ],
   "cell_type": "markdown",
   "metadata": {}
  },
  {
   "cell_type": "code",
   "execution_count": 1,
   "metadata": {},
   "outputs": [
    {
     "output_type": "stream",
     "name": "stderr",
     "text": [
      "/Users/btb/.virtualenvs/geospatial/lib/python3.8/site-packages/pandas/compat/__init__.py:97: UserWarning: Could not import the lzma module. Your installed Python is incomplete. Attempting to use lzma compression will result in a RuntimeError.\n  warnings.warn(msg)\n"
     ]
    }
   ],
   "source": [
    "import os\n",
    "import pandas as pd\n",
    "import math\n",
    "import numpy as np\n",
    "from sklearn.cluster import DBSCAN\n",
    "import folium\n",
    "from folium import plugins\n",
    "\n",
    "_columns = ['row','time_stamp','event','event_type','latitude','longitude','altitude','heart_rate','speed','distance','last_event','filename']\n",
    "\n",
    "_DATA_PATH = \"/Users/btb/Documents/Garmin fit Files/data\"\n",
    "_DATA_FILE = \"locations.csv\"\n",
    "\n",
    "data_dict = {}\n"
   ]
  },
  {
   "cell_type": "code",
   "execution_count": 2,
   "metadata": {},
   "outputs": [],
   "source": [
    "for f in os.listdir(_DATA_PATH):\n",
    "    if f.endswith(\".csv\"):\n",
    "        data = pd.read_csv(\"{}/{}\".format(_DATA_PATH,f),names=_columns)\n",
    "        data = data[data[\"latitude\"].notna() == True]\n",
    "        data[\"latitude\"] = data[\"latitude\"] * 180 / math.pow(2,31)\n",
    "        data[\"longitude\"] = data[\"longitude\"] * 180 / math.pow(2,31)\n",
    "        data_dict[f] = data"
   ]
  },
  {
   "source": [
    "### Validate that the shapes are the same of all dataframes  - Expect 12"
   ],
   "cell_type": "markdown",
   "metadata": {}
  },
  {
   "cell_type": "code",
   "execution_count": 3,
   "metadata": {},
   "outputs": [
    {
     "output_type": "stream",
     "name": "stdout",
     "text": [
      "Done\n"
     ]
    }
   ],
   "source": [
    "l = [(key,item) for key, item in data_dict.items()]\n",
    "for i in range(1,len(l)):\n",
    "    if l[i][1].shape[1] != 12:\n",
    "        print(l[i][0])\n",
    "print(\"Done\")"
   ]
  },
  {
   "source": [
    "### Concatenate all the data"
   ],
   "cell_type": "markdown",
   "metadata": {}
  },
  {
   "cell_type": "code",
   "execution_count": 4,
   "metadata": {},
   "outputs": [],
   "source": [
    "all_data = pd.DataFrame()\n",
    "for key, item in data_dict.items():\n",
    "    all_data = pd.concat([all_data,item])\n",
    "\n",
    "# Save the Data\n",
    "all_data.to_csv(_DATA_FILE,index=False)"
   ]
  }
 ]
}