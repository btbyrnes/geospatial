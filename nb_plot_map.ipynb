{
 "metadata": {
  "language_info": {
   "codemirror_mode": {
    "name": "ipython",
    "version": 3
   },
   "file_extension": ".py",
   "mimetype": "text/x-python",
   "name": "python",
   "nbconvert_exporter": "python",
   "pygments_lexer": "ipython3",
   "version": "3.8.7"
  },
  "orig_nbformat": 4,
  "kernelspec": {
   "name": "python3",
   "display_name": "Python 3.8.7 64-bit ('geospatial': virtualenvwrapper)"
  },
  "interpreter": {
   "hash": "0fa17accbb23c72cf25032a422564cfb8a6a73c486c753ed6aa34f37fac56fb6"
  }
 },
 "nbformat": 4,
 "nbformat_minor": 2,
 "cells": [
  {
   "cell_type": "code",
   "execution_count": 33,
   "metadata": {},
   "outputs": [],
   "source": [
    "import pandas as pd\n",
    "import numpy as np\n",
    "import folium\n",
    "from folium import plugins\n"
   ]
  },
  {
   "cell_type": "code",
   "execution_count": 34,
   "metadata": {},
   "outputs": [],
   "source": [
    "data = pd.read_csv(\"locations.csv\")\n",
    "locations = data[[\"latitude\",\"longitude\"]].to_numpy()"
   ]
  },
  {
   "cell_type": "code",
   "execution_count": 35,
   "metadata": {},
   "outputs": [],
   "source": [
    "with open(\"points_input.csv\",\"r\") as f:\n",
    "    points = f.read()\n",
    "    \n",
    "points = points.replace(\"Latitude: \",\"\").replace(\"Longitude: \",\"\").replace(\" | \",\",\")\n",
    "points = points.split(\"\\n\")\n",
    "\n",
    "with open(\"points.csv\",\"w\") as f:\n",
    "    for i,p in enumerate(points):\n",
    "        f.write(\"{},{}\\n\".format(i,p))"
   ]
  },
  {
   "cell_type": "code",
   "execution_count": 36,
   "metadata": {},
   "outputs": [],
   "source": [
    "points = pd.read_csv(\"points.csv\",names=[\"lat\",\"lon\"])\n",
    "lat_long = points[[\"lat\",\"lon\"]].to_numpy()\n"
   ]
  },
  {
   "cell_type": "code",
   "execution_count": 37,
   "metadata": {},
   "outputs": [],
   "source": [
    "m = folium.Map(location=[38.87,-77.40],zoom_start=15)\n",
    "\n",
    "for i,ll in enumerate(lat_long):\n",
    "    # folium.CircleMarker((ll[0],ll[1]),radius=3,tooltip=i).add_to(m)\n",
    "    folium.Circle((ll[0],ll[1]), radius=30, color=\"forestgreen\",tooltip=i).add_to(m)\n",
    "\n",
    "# m.add_child(plugins.HeatMap(locations,radius=10))\n",
    "m.save(\"map.html\")"
   ]
  },
  {
   "cell_type": "code",
   "execution_count": 38,
   "metadata": {},
   "outputs": [],
   "source": [
    "# Didn't really do what I wanted\n",
    "# db = DBSCAN(eps=.005/6371., min_samples=10, algorithm='ball_tree', metric='haversine').fit(np.radians(locations))\n",
    "# print(db.labels_)\n",
    "# y = db.labels_\n",
    "# labels = np.unique(db.labels_)\n",
    "\n",
    "# clusters = np.empty((len(labels),3),np.float32)\n",
    "\n",
    "# for label in labels:\n",
    "#     clusters[label,0] = label\n",
    "#     lat = np.median(locations[np.where(y==label)][:,0])\n",
    "#     lon = np.median(locations[np.where(y==label)][:,1])\n",
    "#     clusters[label,1] = lat\n",
    "#     clusters[label,2] = lon    \n",
    "\n",
    "# for row in clusters:\n",
    "#     folium.CircleMarker([row[1],row[2]],radius=2, weight=5).add_to(m)"
   ]
  },
  {
   "cell_type": "code",
   "execution_count": 5,
   "metadata": {},
   "outputs": [],
   "source": []
  },
  {
   "cell_type": "code",
   "execution_count": null,
   "metadata": {},
   "outputs": [],
   "source": []
  }
 ]
}